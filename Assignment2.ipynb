{
 "cells": [
  {
   "cell_type": "code",
   "execution_count": 1,
   "metadata": {},
   "outputs": [],
   "source": [
    "import os\n",
    "import glob\n",
    "import torch\n",
    "from PIL import Image\n",
    "from transformers import (\n",
    "    AutoTokenizer,\n",
    "    AutoModelForCausalLM,\n",
    "    AutoProcessor,\n",
    "    MllamaForConditionalGeneration,\n",
    ")\n",
    "from huggingface_hub import login"
   ]
  },
  {
   "cell_type": "code",
   "execution_count": null,
   "metadata": {},
   "outputs": [],
   "source": [
    "login()"
   ]
  },
  {
   "cell_type": "code",
   "execution_count": 2,
   "metadata": {},
   "outputs": [],
   "source": [
    "class GarbageDataset:\n",
    "    def __init__(self, base_dir):\n",
    "        self.base_dir = base_dir\n",
    "        self.train_data = self._load_data('CVPR_2024_dataset_Train')\n",
    "        self.test_data = self._load_data('CVPR_2024_dataset_Test')\n",
    "        self.val_data = self._load_data('CVPR_2024_dataset_Val')\n",
    "\n",
    "    def _load_data(self, dataset_type):\n",
    "        data = {}\n",
    "        dataset_path = os.path.join(self.base_dir, dataset_type)\n",
    "        for category in os.listdir(dataset_path):\n",
    "            category_path = os.path.join(dataset_path, category)\n",
    "            if os.path.isdir(category_path):\n",
    "                data[category] = glob.glob(os.path.join(category_path, '*'))\n",
    "        return data\n",
    "\n",
    "    def get_train_data(self):\n",
    "        return self.train_data\n",
    "\n",
    "    def get_test_data(self):\n",
    "        return self.test_data\n",
    "\n",
    "    def get_val_data(self):\n",
    "        return self.val_data"
   ]
  },
  {
   "cell_type": "code",
   "execution_count": 3,
   "metadata": {},
   "outputs": [],
   "source": [
    "class TransformerModel:\n",
    "\n",
    "    def __init__(self, model_name=\"Meta-LLaVA/llava-llama-2\"):\n",
    "        self.tokenizer = AutoTokenizer.from_pretrained(model_name)\n",
    "        self.model = AutoModelForCausalLM.from_pretrained(model_name)\n",
    "\n",
    "    def encode(self, text):\n",
    "        return self.tokenizer(text, return_tensors=\"pt\")\n",
    "\n",
    "    def generate(self, input_text, max_length=50):\n",
    "        inputs = self.encode(input_text)\n",
    "        outputs = self.model.generate(inputs[\"input_ids\"], max_length=max_length)\n",
    "        return self.tokenizer.decode(outputs[0], skip_special_tokens=True)\n",
    "\n",
    "\n",
    "class Tokenizer:\n",
    "    def __init__(self, model_name=\"gpt2\"):\n",
    "        self.tokenizer = AutoTokenizer.from_pretrained(model_name)\n",
    "\n",
    "    def tokenize(self, text):\n",
    "        return self.tokenizer.tokenize(text)\n",
    "\n",
    "    def decode(self, token_ids):\n",
    "        return self.tokenizer.decode(token_ids, skip_special_tokens=True)"
   ]
  },
  {
   "cell_type": "code",
   "execution_count": null,
   "metadata": {},
   "outputs": [],
   "source": [
    "model_id = \"meta-llama/Llama-3.2-11B-Vision-Instruct\"\n",
    "\n",
    "model = MllamaForConditionalGeneration.from_pretrained(\n",
    "    model_id,\n",
    "    torch_dtype=torch.bfloat16,\n",
    "    device_map=\"auto\",\n",
    ")\n",
    "processor = AutoProcessor.from_pretrained(model_id)"
   ]
  },
  {
   "cell_type": "code",
   "execution_count": null,
   "metadata": {},
   "outputs": [],
   "source": [
    "# Example usage:\n",
    "transformer_model = TransformerModel()\n",
    "tokenizer = Tokenizer()\n",
    "\n",
    "input_text = \"Hello, how are you?\"\n",
    "encoded_input = transformer_model.encode(input_text)\n",
    "generated_text = transformer_model.generate(input_text)\n",
    "\n",
    "print(\"Encoded Input:\", encoded_input)\n",
    "print(\"Generated Text:\", generated_text)"
   ]
  }
 ],
 "metadata": {
  "kernelspec": {
   "display_name": "pytorch",
   "language": "python",
   "name": "python3"
  },
  "language_info": {
   "codemirror_mode": {
    "name": "ipython",
    "version": 3
   },
   "file_extension": ".py",
   "mimetype": "text/x-python",
   "name": "python",
   "nbconvert_exporter": "python",
   "pygments_lexer": "ipython3",
   "version": "3.12.4"
  }
 },
 "nbformat": 4,
 "nbformat_minor": 2
}
