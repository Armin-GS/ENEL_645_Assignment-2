{
 "cells": [
  {
   "cell_type": "code",
   "execution_count": null,
   "metadata": {},
   "outputs": [],
   "source": [
    "import os\n",
    "import torch\n",
    "import torch.nn as nn\n",
    "from torchvision import transforms, models\n",
    "from torch.utils.data import Dataset, DataLoader\n",
    "import torch.optim as optim\n",
    "from torch.optim.lr_scheduler import ReduceLROnPlateau\n",
    "from transformers import BertModel, BertTokenizer\n",
    "from PIL import Image\n",
    "import re"
   ]
  },
  {
   "cell_type": "code",
   "execution_count": null,
   "metadata": {},
   "outputs": [],
   "source": [
    "device = torch.device(\"cuda\" if torch.cuda.is_available() else \"cpu\")\n",
    "print(device)\n",
    "\n",
    "os.makedirs(\"checkpoints\", exist_ok=True)"
   ]
  },
  {
   "cell_type": "code",
   "execution_count": null,
   "metadata": {},
   "outputs": [],
   "source": [
    "# ─── Dataset Class ──────────────────────────────────────────────────\n",
    "class GarbageDataset(Dataset):\n",
    "    def __init__(self, root_dir, transform=None, tokenizer=None):\n",
    "        self.root_dir = root_dir\n",
    "        self.transform = transform\n",
    "        self.tokenizer = tokenizer\n",
    "        self.classes = [\"Black\", \"Blue\", \"Green\", \"TTR\"]\n",
    "        self.data = []\n",
    "        for label in self.classes:\n",
    "            class_dir = os.path.join(root_dir, label)\n",
    "            for file_name in os.listdir(class_dir):\n",
    "                if file_name.endswith(\".jpg\") or file_name.endswith(\".png\"):\n",
    "                    text_description = re.sub(r\"\\d+\", \"\", file_name.split(\".\")[0])\n",
    "                    self.data.append(\n",
    "                        (\n",
    "                            os.path.join(class_dir, file_name),\n",
    "                            text_description,\n",
    "                            self.classes.index(label),\n",
    "                        )\n",
    "                    )\n",
    "\n",
    "    def __len__(self):\n",
    "        return len(self.data)\n",
    "\n",
    "    def __getitem__(self, idx):\n",
    "        img_path, text, label = self.data[idx]\n",
    "        image = Image.open(img_path).convert(\"RGB\")\n",
    "        if self.transform:\n",
    "            image = self.transform(image)\n",
    "        if self.tokenizer:\n",
    "            text = self.tokenizer(\n",
    "                text,\n",
    "                return_tensors=\"pt\",\n",
    "                padding=\"max_length\",\n",
    "                truncation=True,\n",
    "                max_length=128,\n",
    "            )\n",
    "        return image, text, label"
   ]
  },
  {
   "cell_type": "code",
   "execution_count": null,
   "metadata": {},
   "outputs": [],
   "source": [
    "# ─── Transformer Class ──────────────────────────────────────────────\n",
    "transform = transforms.Compose(\n",
    "    [\n",
    "        transforms.Resize((224, 224)),\n",
    "        transforms.ToTensor(),\n",
    "    ]\n",
    ")\n",
    "\n",
    "# ─── Tokenizer Class ────────────────────────────────────────────────\n",
    "tokenizer = BertTokenizer.from_pretrained(\"bert-base-uncased\")"
   ]
  },
  {
   "cell_type": "code",
   "execution_count": null,
   "metadata": {},
   "outputs": [],
   "source": [
    "# ─── Initiate Datasets ──────────────────────────────────────────────\n",
    "train_dataset = GarbageDataset(\n",
    "    root_dir=\"garbage_data/CVPR_2024_dataset_Train\",\n",
    "    transform=transform,\n",
    "    tokenizer=tokenizer,\n",
    ")\n",
    "val_dataset = GarbageDataset(\n",
    "    root_dir=\"garbage_data/CVPR_2024_dataset_Val\",\n",
    "    transform=transform,\n",
    "    tokenizer=tokenizer,\n",
    ")\n",
    "test_dataset = GarbageDataset(\n",
    "    root_dir=\"garbage_data/CVPR_2024_dataset_Test\",\n",
    "    transform=transform,\n",
    "    tokenizer=tokenizer,\n",
    ")\n",
    "\n",
    "# ─── Initiate Dataloaders ───────────────────────────────────────────\n",
    "train_loader = DataLoader(train_dataset, batch_size=64, shuffle=True)\n",
    "val_loader = DataLoader(val_dataset, batch_size=64, shuffle=False)\n",
    "test_loader = DataLoader(test_dataset, batch_size=64, shuffle=False)"
   ]
  },
  {
   "cell_type": "code",
   "execution_count": null,
   "metadata": {},
   "outputs": [],
   "source": [
    "# ─── Model Class ────────────────────────────────────────────────────\n",
    "class MultimodalModel(nn.Module):\n",
    "    def __init__(self, num_classes=4):\n",
    "        super(MultimodalModel, self).__init__()\n",
    "        # ─── Image Model ────────────────────────────────────\n",
    "        self.image_model = models.resnet50(pretrained=True)\n",
    "        num_ftrs = self.image_model.fc.in_features\n",
    "        self.image_model.fc = nn.Identity()\n",
    "\n",
    "        # ─── Text Model ─────────────────────────────────────\n",
    "        self.text_model = BertModel.from_pretrained(\"bert-base-uncased\")\n",
    "\n",
    "        # ─── Combined Classifiers With Hidden Layers ────────\n",
    "        self.fc1 = nn.Linear(num_ftrs + self.text_model.config.hidden_size, 512)\n",
    "        self.fc2 = nn.Linear(512, 256)\n",
    "        self.fc3 = nn.Linear(256, num_classes)\n",
    "        self.sigmoid = nn.Sigmoid()\n",
    "        self.dropout = nn.Dropout(0.2)\n",
    "\n",
    "    def forward(self, image, text):\n",
    "        # ─── Image Features ─────────────────────────────────\n",
    "        image_features = self.image_model(image)\n",
    "\n",
    "        # ─── Text Features ──────────────────────────────────\n",
    "        text_features = self.text_model(**text).last_hidden_state[:, 0, :]\n",
    "\n",
    "        # ─── Combine Features ───────────────────────────────\n",
    "        combined_features = torch.cat((image_features, text_features), dim=1)\n",
    "\n",
    "        # ─── Pass Through Additional Hidden Layers ──────────\n",
    "        x = self.fc1(combined_features)\n",
    "        x = self.sigmoid(x)\n",
    "        x = self.dropout(x)\n",
    "        x = self.fc2(x)\n",
    "        x = self.sigmoid(x)\n",
    "        x = self.dropout(x)\n",
    "        x = self.fc3(x)\n",
    "        output = self.sigmoid(x)\n",
    "\n",
    "        return output"
   ]
  },
  {
   "cell_type": "code",
   "execution_count": null,
   "metadata": {},
   "outputs": [],
   "source": [
    "# ─── Initiate Model ─────────────────────────────────────────────────\n",
    "model = MultimodalModel(num_classes=4)\n",
    "model.to(device)"
   ]
  },
  {
   "cell_type": "code",
   "execution_count": null,
   "metadata": {},
   "outputs": [],
   "source": [
    "# ─── Criterion ──────────────────────────────────────────────────────\n",
    "criterion = nn.CrossEntropyLoss()\n",
    "# ─── Optimizer ──────────────────────────────────────────────────────\n",
    "optimizer = optim.Adam(model.parameters(), lr=1e-4)\n",
    "# ─── Scheduler ──────────────────────────────────────────────────────\n",
    "scheduler = ReduceLROnPlateau(optimizer, \"min\", patience=3, factor=0.1, verbose=True)"
   ]
  }
 ],
 "metadata": {
  "kernelspec": {
   "display_name": "pytorch",
   "language": "python",
   "name": "python3"
  },
  "language_info": {
   "codemirror_mode": {
    "name": "ipython",
    "version": 3
   },
   "file_extension": ".py",
   "mimetype": "text/x-python",
   "name": "python",
   "nbconvert_exporter": "python",
   "pygments_lexer": "ipython3",
   "version": "3.10.15"
  }
 },
 "nbformat": 4,
 "nbformat_minor": 2
}
