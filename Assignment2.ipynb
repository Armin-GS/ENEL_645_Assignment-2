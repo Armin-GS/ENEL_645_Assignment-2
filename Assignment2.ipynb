{
 "cells": [
  {
   "cell_type": "code",
   "execution_count": null,
   "metadata": {},
   "outputs": [],
   "source": [
    "import os\n",
    "import torch\n",
    "from torch.utils.data import Dataset, DataLoader\n",
    "from torchvision import transforms\n",
    "from PIL import Image\n",
    "import re\n",
    "import torch.nn as nn\n",
    "from torchvision import models\n",
    "from transformers import BertModel, BertTokenizer\n",
    "import torch.optim as optim\n",
    "from torch.optim.lr_scheduler import ReduceLROnPlateau\n",
    "from sklearn.metrics import accuracy_score, confusion_matrix, f1_score, roc_auc_score"
   ]
  },
  {
   "cell_type": "code",
   "execution_count": null,
   "metadata": {},
   "outputs": [],
   "source": [
    "device = torch.device(\"cuda\" if torch.cuda.is_available() else \"cpu\")\n",
    "print(device)\n",
    "\n",
    "os.makedirs(\"checkpoints\", exist_ok=True)"
   ]
  },
  {
   "cell_type": "code",
   "execution_count": null,
   "metadata": {},
   "outputs": [],
   "source": [
    "# ─── Dataset Class ──────────────────────────────────────────────────\n",
    "class GarbageDataset(Dataset):\n",
    "    def __init__(self, root_dir, transform=None, tokenizer=None):\n",
    "        self.root_dir = root_dir\n",
    "        self.transform = transform\n",
    "        self.tokenizer = tokenizer\n",
    "        self.classes = [\"Black\", \"Blue\", \"Green\", \"TTR\"]\n",
    "        self.data = []\n",
    "        for label in self.classes:\n",
    "            class_dir = os.path.join(root_dir, label)\n",
    "            for file_name in os.listdir(class_dir):\n",
    "                if file_name.endswith(\".jpg\") or file_name.endswith(\".png\"):\n",
    "                    text_description = re.sub(r\"\\d+\", \"\", file_name.split(\".\")[0])\n",
    "                    self.data.append(\n",
    "                        (\n",
    "                            os.path.join(class_dir, file_name),\n",
    "                            text_description,\n",
    "                            self.classes.index(label),\n",
    "                        )\n",
    "                    )\n",
    "\n",
    "    def __len__(self):\n",
    "        return len(self.data)\n",
    "\n",
    "    def __getitem__(self, idx):\n",
    "        img_path, text, label = self.data[idx]\n",
    "        image = Image.open(img_path).convert(\"RGB\")\n",
    "        if self.transform:\n",
    "            image = self.transform(image)\n",
    "        if self.tokenizer:\n",
    "            text = self.tokenizer(\n",
    "                text,\n",
    "                return_tensors=\"pt\",\n",
    "                padding=\"max_length\",\n",
    "                truncation=True,\n",
    "                max_length=128,\n",
    "            )\n",
    "        return image, text, label"
   ]
  }
 ],
 "metadata": {
  "kernelspec": {
   "display_name": "pytorch",
   "language": "python",
   "name": "python3"
  },
  "language_info": {
   "codemirror_mode": {
    "name": "ipython",
    "version": 3
   },
   "file_extension": ".py",
   "mimetype": "text/x-python",
   "name": "python",
   "nbconvert_exporter": "python",
   "pygments_lexer": "ipython3",
   "version": "3.10.15"
  }
 },
 "nbformat": 4,
 "nbformat_minor": 2
}
