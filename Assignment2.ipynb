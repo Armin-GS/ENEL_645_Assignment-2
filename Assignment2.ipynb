{
 "cells": [
  {
   "cell_type": "code",
   "execution_count": 3,
   "metadata": {},
   "outputs": [],
   "source": [
    "import os\n",
    "import glob\n",
    "import torch\n",
    "from PIL import Image\n",
    "from transformers import (\n",
    "    AutoTokenizer,\n",
    "    AutoModelForCausalLM,\n",
    "    AutoProcessor,\n",
    "    MllamaForConditionalGeneration,\n",
    ")\n",
    "from huggingface_hub import login\n",
    "import requests\n",
    "from dotenv import load_dotenv"
   ]
  },
  {
   "cell_type": "code",
   "execution_count": null,
   "metadata": {},
   "outputs": [],
   "source": [
    "load_dotenv()\n",
    "login(token=os.getenv(\"HF_Token\"))"
   ]
  },
  {
   "cell_type": "code",
   "execution_count": 5,
   "metadata": {},
   "outputs": [],
   "source": [
    "class GarbageDataset:\n",
    "    def __init__(self, base_dir):\n",
    "        self.base_dir = base_dir\n",
    "        self.train_data = self._load_data(\"CVPR_2024_dataset_Train\")\n",
    "        self.test_data = self._load_data(\"CVPR_2024_dataset_Test\")\n",
    "        self.val_data = self._load_data(\"CVPR_2024_dataset_Val\")\n",
    "\n",
    "    def _load_data(self, dataset_type):\n",
    "        data = {}\n",
    "        dataset_path = os.path.join(self.base_dir, dataset_type)\n",
    "        for category in os.listdir(dataset_path):\n",
    "            category_path = os.path.join(dataset_path, category)\n",
    "            if os.path.isdir(category_path):\n",
    "                data[category] = glob.glob(os.path.join(category_path, \"*\"))\n",
    "        return data\n",
    "\n",
    "    def get_train_data(self):\n",
    "        return self.train_data\n",
    "\n",
    "    def get_test_data(self):\n",
    "        return self.test_data\n",
    "\n",
    "    def get_val_data(self):\n",
    "        return self.val_data"
   ]
  },
  {
   "cell_type": "code",
   "execution_count": 6,
   "metadata": {},
   "outputs": [],
   "source": [
    "class TransformerModel:\n",
    "\n",
    "    def __init__(self, model_name=\"Meta-LLaVA/llava-llama-2\"):\n",
    "        self.tokenizer = AutoTokenizer.from_pretrained(model_name)\n",
    "        self.model = AutoModelForCausalLM.from_pretrained(model_name)\n",
    "\n",
    "    def encode(self, text):\n",
    "        return self.tokenizer(text, return_tensors=\"pt\")\n",
    "\n",
    "    def generate(self, input_text, max_length=50):\n",
    "        inputs = self.encode(input_text)\n",
    "        outputs = self.model.generate(inputs[\"input_ids\"], max_length=max_length)\n",
    "        return self.tokenizer.decode(outputs[0], skip_special_tokens=True)\n",
    "\n",
    "\n",
    "class Tokenizer:\n",
    "    def __init__(self, model_name=\"gpt2\"):\n",
    "        self.tokenizer = AutoTokenizer.from_pretrained(model_name)\n",
    "\n",
    "    def tokenize(self, text):\n",
    "        return self.tokenizer.tokenize(text)\n",
    "\n",
    "    def decode(self, token_ids):\n",
    "        return self.tokenizer.decode(token_ids, skip_special_tokens=True)"
   ]
  },
  {
   "cell_type": "code",
   "execution_count": null,
   "metadata": {},
   "outputs": [],
   "source": [
    "model_id = \"meta-llama/Llama-3.2-11B-Vision-Instruct\"\n",
    "\n",
    "model = MllamaForConditionalGeneration.from_pretrained(\n",
    "    model_id,\n",
    "    torch_dtype=torch.bfloat16,\n",
    "    device_map=\"auto\",\n",
    ")\n",
    "processor = AutoProcessor.from_pretrained(model_id)"
   ]
  },
  {
   "cell_type": "code",
   "execution_count": null,
   "metadata": {},
   "outputs": [],
   "source": [
    "url = \"https://huggingface.co/datasets/huggingface/documentation-images/resolve/0052a70beed5bf71b92610a43a52df6d286cd5f3/diffusers/rabbit.jpg\"\n",
    "image = Image.open(requests.get(url, stream=True).raw)\n",
    "\n",
    "messages = [\n",
    "    {\n",
    "        \"role\": \"user\",\n",
    "        \"content\": [\n",
    "            {\"type\": \"image\"},\n",
    "            {\n",
    "                \"type\": \"text\",\n",
    "                \"text\": \"If I had to write a haiku for this one, it would be: \",\n",
    "            },\n",
    "        ],\n",
    "    }\n",
    "]\n",
    "input_text = processor.apply_chat_template(messages, add_generation_prompt=True)\n",
    "inputs = processor(image, input_text, add_special_tokens=False, return_tensors=\"pt\").to(\n",
    "    model.device\n",
    ")\n",
    "\n",
    "output = model.generate(**inputs, max_new_tokens=10)\n",
    "print(processor.decode(output[0]))"
   ]
  }
 ],
 "metadata": {
  "kernelspec": {
   "display_name": "pytorch",
   "language": "python",
   "name": "python3"
  },
  "language_info": {
   "codemirror_mode": {
    "name": "ipython",
    "version": 3
   },
   "file_extension": ".py",
   "mimetype": "text/x-python",
   "name": "python",
   "nbconvert_exporter": "python",
   "pygments_lexer": "ipython3",
   "version": "3.12.4"
  }
 },
 "nbformat": 4,
 "nbformat_minor": 2
}
